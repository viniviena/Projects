{
 "cells": [
  {
   "cell_type": "markdown",
   "id": "right-smoke",
   "metadata": {},
   "source": [
    "# Training machines to smell - Part 2: Exploratory data analysis (EDA) and feature engineering (FE)."
   ]
  },
  {
   "cell_type": "markdown",
   "id": "mature-hungarian",
   "metadata": {},
   "source": [
    "## Overview"
   ]
  },
  {
   "cell_type": "markdown",
   "id": "swedish-specialist",
   "metadata": {},
   "source": [
    "In this notebook code for exploratory data analysis and feature engineering will be provided. For the sake of organization, it was better to split the project into 3 notebook files."
   ]
  },
  {
   "cell_type": "markdown",
   "id": "suited-manual",
   "metadata": {},
   "source": [
    "##  EDA and FE Task 1: Predict odor intensity"
   ]
  },
  {
   "cell_type": "markdown",
   "id": "demanding-morgan",
   "metadata": {},
   "source": [
    "Now we have the features, we can see that there are a lot of them (4867). In the same way that too few features can fail to explaing the target variable variability, too many features can have a similar effect for parametric models such as **Kernel Ridge Regressor**. Before training this model, we need to: explore features distribution. Then in FE drop features with low variability and investigate their correlation.\n",
    "\n",
    "For the **random forest**, I will use the raw features and let the algorithm figure out how to do predictions."
   ]
  },
  {
   "cell_type": "markdown",
   "id": "fundamental-cleanup",
   "metadata": {},
   "source": [
    "### EDA"
   ]
  },
  {
   "cell_type": "code",
   "execution_count": 1,
   "id": "noble-cliff",
   "metadata": {},
   "outputs": [],
   "source": [
    "# Importing libraries \n",
    "import pandas as pd\n",
    "import os\n",
    "import numpy as np\n",
    "import matplotlib.pyplot as plt\n",
    "import matplotlib\n",
    "from matplotlib import rc\n",
    "import matplotlib.pylab as pylab"
   ]
  },
  {
   "cell_type": "code",
   "execution_count": 2,
   "id": "short-camel",
   "metadata": {},
   "outputs": [],
   "source": [
    "# For styling graphics\n",
    "legend_size = 14\n",
    "params = {'xtick.top': True,\n",
    "          'ytick.right': True,\n",
    "          'xtick.major.size': 5,\n",
    "          'ytick.major.size': 5,\n",
    "          'xtick.direction': 'in',\n",
    "          'ytick.direction': 'in',\n",
    "    'legend.fontsize': legend_size,\n",
    "          'figure.figsize': (11, 6),\n",
    "          'figure.dpi': 100,\n",
    "         'axes.labelsize': 20,\n",
    "         'axes.titlesize':22,\n",
    "         'xtick.labelsize':16,\n",
    "         'ytick.labelsize':16,\n",
    "         'lines.linewidth': 3,\n",
    "        'lines.markersize': 16}\n",
    "pylab.rcParams.update(params)"
   ]
  },
  {
   "cell_type": "markdown",
   "id": "waiting-mouse",
   "metadata": {},
   "source": [
    "Now we have the features, we can see that there are a lot of them (4867). In the same way that too few features can fail to explaing the target variable variability, too many features can have a similar effect. Before training any model, we need to: investigate missing values, explore features features distribution. Then in FE drop features with low variability and investigate their correlation."
   ]
  },
  {
   "cell_type": "markdown",
   "id": "delayed-setup",
   "metadata": {},
   "source": [
    "In the cell below, I simply load the ``X_train.csv`` and ``y_train.csv`` arrays createad in notebook PART 1 and drop an ininteded column that was created during save."
   ]
  },
  {
   "cell_type": "code",
   "execution_count": 3,
   "id": "functioning-indonesian",
   "metadata": {},
   "outputs": [],
   "source": [
    "#Loading the data set for task 1 with missing rows removed\n",
    "X = pd.read_csv('task1/X_train.csv')\n",
    "y = pd.read_csv('task1/y_train.csv')\n",
    "y_2 = pd.read_csv('task2/y_train.csv')"
   ]
  },
  {
   "cell_type": "markdown",
   "id": "inside-investing",
   "metadata": {},
   "source": [
    "**Data Distribution**"
   ]
  },
  {
   "cell_type": "markdown",
   "id": "affiliated-chance",
   "metadata": {},
   "source": [
    "Before moving to transforming the features, it is useful to explore their distribution and basic statistics. When getting set of features and targets, few attributes of the data mass worth being observed for the purpose of building a predictive model:data types,variability, symetry, correlation - covariance. This is so, because it can actually affect the performance. Too many features can cause trouble in parametric models such as linear regression, kernel ridge, so we have to find a way to reduce it. \n",
    "\n",
    "For each of such attributes, there are strategies to overcome them. If features have low variability for instance, it may be better to drop it - nobody can expect filling a column with constant value and be able to predict a target with it. Assymetric distributions (also named skewed) may also cause trouble for features and for targets. For the target, you may end up having a bad performance in the region with low data density (thinking about error minimization) - a way to circumvent it is applying some transformation to the features in regression. \n",
    "Correlated features may also cause trouble by the known colinearity problem. To correct it, a dimensionality reduction method can be used such as PCA.\n",
    "\n",
    "In the following cells, I will look carefully for each of the possible problems the data may have"
   ]
  },
  {
   "cell_type": "markdown",
   "id": "registered-republican",
   "metadata": {},
   "source": [
    "**Target distribution**"
   ]
  },
  {
   "cell_type": "code",
   "execution_count": 4,
   "id": "previous-segment",
   "metadata": {},
   "outputs": [
    {
     "data": {
      "text/html": [
       "<div>\n",
       "<style scoped>\n",
       "    .dataframe tbody tr th:only-of-type {\n",
       "        vertical-align: middle;\n",
       "    }\n",
       "\n",
       "    .dataframe tbody tr th {\n",
       "        vertical-align: top;\n",
       "    }\n",
       "\n",
       "    .dataframe thead th {\n",
       "        text-align: right;\n",
       "    }\n",
       "</style>\n",
       "<table border=\"1\" class=\"dataframe\">\n",
       "  <thead>\n",
       "    <tr style=\"text-align: right;\">\n",
       "      <th></th>\n",
       "      <th>INTENSITY/STRENGTH</th>\n",
       "    </tr>\n",
       "  </thead>\n",
       "  <tbody>\n",
       "    <tr>\n",
       "      <th>count</th>\n",
       "      <td>25762.000000</td>\n",
       "    </tr>\n",
       "    <tr>\n",
       "      <th>mean</th>\n",
       "      <td>53.977874</td>\n",
       "    </tr>\n",
       "    <tr>\n",
       "      <th>std</th>\n",
       "      <td>33.070849</td>\n",
       "    </tr>\n",
       "    <tr>\n",
       "      <th>min</th>\n",
       "      <td>0.000000</td>\n",
       "    </tr>\n",
       "    <tr>\n",
       "      <th>25%</th>\n",
       "      <td>23.000000</td>\n",
       "    </tr>\n",
       "    <tr>\n",
       "      <th>50%</th>\n",
       "      <td>61.000000</td>\n",
       "    </tr>\n",
       "    <tr>\n",
       "      <th>75%</th>\n",
       "      <td>82.000000</td>\n",
       "    </tr>\n",
       "    <tr>\n",
       "      <th>max</th>\n",
       "      <td>100.000000</td>\n",
       "    </tr>\n",
       "  </tbody>\n",
       "</table>\n",
       "</div>"
      ],
      "text/plain": [
       "       INTENSITY/STRENGTH\n",
       "count        25762.000000\n",
       "mean            53.977874\n",
       "std             33.070849\n",
       "min              0.000000\n",
       "25%             23.000000\n",
       "50%             61.000000\n",
       "75%             82.000000\n",
       "max            100.000000"
      ]
     },
     "execution_count": 4,
     "metadata": {},
     "output_type": "execute_result"
    }
   ],
   "source": [
    "y.iloc[:,1:].describe()"
   ]
  },
  {
   "cell_type": "markdown",
   "id": "uniform-malaysia",
   "metadata": {},
   "source": [
    "The target distribution is not symmetric and not skewed. It looks like the distribution is multimodal and there a lot of zeros and 100. Predicting 0's will be problematic since most of the models parameters cannot be trained with such constraint (y_predicted > 0). I will simply truncate predictions smaller than zero to zero! \n",
    "\n",
    "Moreover, we can see that the perception of individuals about the same smell have an enormous variability. This may happen due to the fact that the subjects are untrained panelists (people who distinguish smells) and did not had the opportunity to develop a good strategy to consistently classify the stimuli. "
   ]
  },
  {
   "cell_type": "markdown",
   "id": "dutch-throw",
   "metadata": {},
   "source": [
    "The figure below displays the variability for molecule 1 across subjects"
   ]
  },
  {
   "cell_type": "code",
   "execution_count": 5,
   "id": "exotic-amendment",
   "metadata": {
    "scrolled": true
   },
   "outputs": [],
   "source": [
    "mol_id = X.CID.unique()\n",
    "rows  = X.loc[X.CID == mol_id[0]].index.to_list()"
   ]
  },
  {
   "cell_type": "code",
   "execution_count": 6,
   "id": "legal-linux",
   "metadata": {},
   "outputs": [
    {
     "name": "stdout",
     "output_type": "stream",
     "text": [
      "Variability of molecule CID 126 across subjects\n"
     ]
    },
    {
     "data": {
      "text/plain": [
       "(0.0, 100.0)"
      ]
     },
     "execution_count": 6,
     "metadata": {},
     "output_type": "execute_result"
    },
    {
     "data": {
      "image/png": "[encoded data removed]",
      "text/plain": [
       "<Figure size 432x288 with 1 Axes>"
      ]
     },
     "metadata": {
      "needs_background": "light"
     },
     "output_type": "display_data"
    }
   ],
   "source": [
    "%matplotlib inline\n",
    "print('Variability of molecule CID', mol_id[0], 'across subjects')\n",
    "x = y.iloc[rows,1:].values\n",
    "fig, ax = plt.subplots()\n",
    "kwargs = dict(histtype='bar', alpha=0.3, ec=\"k\")\n",
    "ax.hist(x, **kwargs)\n",
    "ax.set_xlabel('Intensity')\n",
    "ax.set_ylabel('Frequency')\n",
    "ax.set_xlim([0,100])\n",
    "#ax.set_rasterized(True)\n",
    "#fig.savefig('y_cid126.pdf',format = 'pdf', dpi = 200, bbox_inches='tight')"
   ]
  },
  {
   "cell_type": "markdown",
   "id": "synthetic-intervention",
   "metadata": {},
   "source": [
    "###  Feature Engineering (For parametric model Kernel Ridge Regressor)"
   ]
  },
  {
   "cell_type": "markdown",
   "id": "metropolitan-wonder",
   "metadata": {},
   "source": [
    "**Checking data types**"
   ]
  },
  {
   "cell_type": "markdown",
   "id": "exposed-enclosure",
   "metadata": {},
   "source": [
    "By previous inspection, I saw that there are features which are binary int64 and others that are float64. int64 usually refer to numerical discrete variables and float64 to continuous (real values)."
   ]
  },
  {
   "cell_type": "markdown",
   "id": "guided-attendance",
   "metadata": {},
   "source": [
    "From previous inspection, I verified that the following variables were categorical and featurized using one hot encoding. They have to treated differently than continuous features"
   ]
  },
  {
   "cell_type": "code",
   "execution_count": 7,
   "id": "viral-meeting",
   "metadata": {},
   "outputs": [],
   "source": [
    "binary  = ['Inflammat-80', 'Inflammat-50', 'Depressant-80','Depressant-50','Psychotic-80','Psychotic-50',\n",
    " 'Hypertens-80', 'Hypertens-50','Hypnotic-80', 'Hypnotic-50',\n",
    " 'Neoplastic-80' , 'Neoplastic-50', 'Infective-80', 'Infective-50', 'CMC-50', 'CMC-80']"
   ]
  },
  {
   "cell_type": "code",
   "execution_count": 8,
   "id": "single-injection",
   "metadata": {},
   "outputs": [],
   "source": [
    "X_int = X[binary]\n",
    "X_real = X.drop(binary, axis = 1).iloc[:,1:]"
   ]
  },
  {
   "cell_type": "code",
   "execution_count": 9,
   "id": "front-experience",
   "metadata": {},
   "outputs": [
    {
     "name": "stdout",
     "output_type": "stream",
     "text": [
      "(25762, 16)\n"
     ]
    }
   ],
   "source": [
    "print(X_int.shape)"
   ]
  },
  {
   "cell_type": "code",
   "execution_count": 10,
   "id": "prime-puppy",
   "metadata": {},
   "outputs": [
    {
     "name": "stdout",
     "output_type": "stream",
     "text": [
      "(25762, 4853)\n"
     ]
    }
   ],
   "source": [
    "print(X_real.shape)"
   ]
  },
  {
   "cell_type": "markdown",
   "id": "brave-papua",
   "metadata": {},
   "source": [
    "**Building a variability filter**\n",
    "\n",
    "* We have to check for variability in columns. I remove continuous features based on variance and int features based on how much 1s there are compared to the total number of rows."
   ]
  },
  {
   "cell_type": "markdown",
   "id": "distributed-filing",
   "metadata": {},
   "source": [
    "Continuous columns"
   ]
  },
  {
   "cell_type": "code",
   "execution_count": 11,
   "id": "presidential-hungary",
   "metadata": {},
   "outputs": [],
   "source": [
    "#Calculating variance for continuous variables\n",
    "variances = X_real.apply(np.var)\n",
    "\n",
    "#Setting a threshold\n",
    "variance_threshold = 2"
   ]
  },
  {
   "cell_type": "code",
   "execution_count": 12,
   "id": "beginning-offering",
   "metadata": {},
   "outputs": [],
   "source": [
    "#Getting column names with variance higher than threshold\n",
    "good_cols = variances[variances > variance_threshold].index.to_list()"
   ]
  },
  {
   "cell_type": "code",
   "execution_count": 13,
   "id": "included-heater",
   "metadata": {},
   "outputs": [],
   "source": [
    "#Retrieving good cols from X dataframe\n",
    "X_real = X_real[good_cols]"
   ]
  },
  {
   "cell_type": "code",
   "execution_count": 14,
   "id": "written-quality",
   "metadata": {
    "scrolled": true
   },
   "outputs": [
    {
     "data": {
      "text/plain": [
       "(25762, 917)"
      ]
     },
     "execution_count": 14,
     "metadata": {},
     "output_type": "execute_result"
    }
   ],
   "source": [
    "X_real.shape"
   ]
  },
  {
   "cell_type": "markdown",
   "id": "thrown-thinking",
   "metadata": {},
   "source": [
    "Binary columns"
   ]
  },
  {
   "cell_type": "code",
   "execution_count": 15,
   "id": "second-while",
   "metadata": {},
   "outputs": [],
   "source": [
    "sparseness = X_int.apply(lambda x: x.sum()/len(x))"
   ]
  },
  {
   "cell_type": "code",
   "execution_count": 16,
   "id": "greater-minority",
   "metadata": {},
   "outputs": [],
   "source": [
    "good_int = sparseness[sparseness > .075].index.to_list()"
   ]
  },
  {
   "cell_type": "code",
   "execution_count": 17,
   "id": "personalized-pregnancy",
   "metadata": {},
   "outputs": [],
   "source": [
    "X_int = X_int[good_int]"
   ]
  },
  {
   "cell_type": "code",
   "execution_count": 18,
   "id": "suited-richardson",
   "metadata": {},
   "outputs": [
    {
     "data": {
      "text/plain": [
       "(25762, 4)"
      ]
     },
     "execution_count": 18,
     "metadata": {},
     "output_type": "execute_result"
    }
   ],
   "source": [
    "X_int.shape"
   ]
  },
  {
   "cell_type": "markdown",
   "id": "adjusted-august",
   "metadata": {},
   "source": [
    "We can see that setting a variance threshold allowed to get a reduction factor of 4 in the number of features. "
   ]
  },
  {
   "cell_type": "markdown",
   "id": "certified-venue",
   "metadata": {},
   "source": [
    "Check some features and target distribution as well as how the target vary across subjects."
   ]
  },
  {
   "cell_type": "markdown",
   "id": "moderate-replication",
   "metadata": {},
   "source": [
    "**Correlation analysis**\n",
    "\n",
    "* Even after dropping few columns that had no appreciable variability, we can see that still there are a lot of features and they are probably correlated with each other (it can hurt training performance due to colinearity problem). In this way, a good method to reduce the number features dimension is by implementing a dimensionality reduction method - PCA is widely available including in scikitlearn!\n"
   ]
  },
  {
   "cell_type": "markdown",
   "id": "inside-phenomenon",
   "metadata": {},
   "source": [
    "**Feature correlation.**"
   ]
  },
  {
   "cell_type": "markdown",
   "id": "adjustable-eligibility",
   "metadata": {},
   "source": [
    "Real variables"
   ]
  },
  {
   "cell_type": "code",
   "execution_count": 19,
   "id": "tender-paint",
   "metadata": {},
   "outputs": [],
   "source": [
    "#Joining features and target dataframes\n",
    "X_y = pd.concat([X_real, y.iloc[:,1:]], axis = 1)"
   ]
  },
  {
   "cell_type": "markdown",
   "id": "humanitarian-cinema",
   "metadata": {},
   "source": [
    "Storing target names in a list ``target_names`` and real feature names in ``real_feature_names``."
   ]
  },
  {
   "cell_type": "code",
   "execution_count": 20,
   "id": "acute-tulsa",
   "metadata": {},
   "outputs": [],
   "source": [
    "target_names = y.iloc[:,1:].columns.to_list()\n",
    "real_feature_names = X_real.columns.to_list()"
   ]
  },
  {
   "cell_type": "code",
   "execution_count": 21,
   "id": "adjusted-international",
   "metadata": {},
   "outputs": [
    {
     "name": "stdout",
     "output_type": "stream",
     "text": [
      "917\n"
     ]
    }
   ],
   "source": [
    "print(len(real_feature_names))"
   ]
  },
  {
   "cell_type": "markdown",
   "id": "expensive-queue",
   "metadata": {},
   "source": [
    "Calculating correlation matrix with ``pd.DataFrame.corr()`` method."
   ]
  },
  {
   "cell_type": "code",
   "execution_count": 22,
   "id": "provincial-journal",
   "metadata": {},
   "outputs": [],
   "source": [
    "correlations = X_y.corr()"
   ]
  },
  {
   "cell_type": "code",
   "execution_count": 23,
   "id": "loving-instrumentation",
   "metadata": {},
   "outputs": [],
   "source": [
    "X_y = None"
   ]
  },
  {
   "cell_type": "code",
   "execution_count": 24,
   "id": "genuine-class",
   "metadata": {},
   "outputs": [
    {
     "data": {
      "text/html": [
       "<div>\n",
       "<style scoped>\n",
       "    .dataframe tbody tr th:only-of-type {\n",
       "        vertical-align: middle;\n",
       "    }\n",
       "\n",
       "    .dataframe tbody tr th {\n",
       "        vertical-align: top;\n",
       "    }\n",
       "\n",
       "    .dataframe thead th {\n",
       "        text-align: right;\n",
       "    }\n",
       "</style>\n",
       "<table border=\"1\" class=\"dataframe\">\n",
       "  <thead>\n",
       "    <tr style=\"text-align: right;\">\n",
       "      <th></th>\n",
       "      <th>complexity from pubmed</th>\n",
       "      <th>MW</th>\n",
       "      <th>AMW</th>\n",
       "      <th>Sv</th>\n",
       "      <th>Se</th>\n",
       "      <th>Sp</th>\n",
       "      <th>Si</th>\n",
       "      <th>nAT</th>\n",
       "      <th>nSK</th>\n",
       "      <th>nBT</th>\n",
       "      <th>...</th>\n",
       "      <th>TPSA(NO)</th>\n",
       "      <th>TPSA(Tot)</th>\n",
       "      <th>MLOGP2</th>\n",
       "      <th>ALOGP2</th>\n",
       "      <th>SAtot</th>\n",
       "      <th>SAacc</th>\n",
       "      <th>SAdon</th>\n",
       "      <th>Vx</th>\n",
       "      <th>VvdwMG</th>\n",
       "      <th>VvdwZAZ</th>\n",
       "    </tr>\n",
       "  </thead>\n",
       "  <tbody>\n",
       "    <tr>\n",
       "      <th>complexity from pubmed</th>\n",
       "      <td>1.000000</td>\n",
       "      <td>0.741338</td>\n",
       "      <td>-0.082108</td>\n",
       "      <td>0.771273</td>\n",
       "      <td>0.672499</td>\n",
       "      <td>0.719411</td>\n",
       "      <td>0.641314</td>\n",
       "      <td>0.654253</td>\n",
       "      <td>0.859988</td>\n",
       "      <td>0.691624</td>\n",
       "      <td>...</td>\n",
       "      <td>0.308990</td>\n",
       "      <td>0.101394</td>\n",
       "      <td>0.441286</td>\n",
       "      <td>0.428648</td>\n",
       "      <td>0.662253</td>\n",
       "      <td>0.206363</td>\n",
       "      <td>-0.091190</td>\n",
       "      <td>0.726825</td>\n",
       "      <td>0.726825</td>\n",
       "      <td>0.748716</td>\n",
       "    </tr>\n",
       "    <tr>\n",
       "      <th>MW</th>\n",
       "      <td>0.741338</td>\n",
       "      <td>1.000000</td>\n",
       "      <td>0.312306</td>\n",
       "      <td>0.860859</td>\n",
       "      <td>0.784663</td>\n",
       "      <td>0.858467</td>\n",
       "      <td>0.761193</td>\n",
       "      <td>0.772365</td>\n",
       "      <td>0.876775</td>\n",
       "      <td>0.787259</td>\n",
       "      <td>...</td>\n",
       "      <td>0.196325</td>\n",
       "      <td>0.097500</td>\n",
       "      <td>0.659561</td>\n",
       "      <td>0.658248</td>\n",
       "      <td>0.837070</td>\n",
       "      <td>0.126943</td>\n",
       "      <td>-0.073957</td>\n",
       "      <td>0.882193</td>\n",
       "      <td>0.882193</td>\n",
       "      <td>0.870118</td>\n",
       "    </tr>\n",
       "    <tr>\n",
       "      <th>AMW</th>\n",
       "      <td>-0.082108</td>\n",
       "      <td>0.312306</td>\n",
       "      <td>1.000000</td>\n",
       "      <td>-0.179117</td>\n",
       "      <td>-0.252381</td>\n",
       "      <td>-0.141391</td>\n",
       "      <td>-0.262496</td>\n",
       "      <td>-0.255410</td>\n",
       "      <td>-0.140743</td>\n",
       "      <td>-0.251420</td>\n",
       "      <td>...</td>\n",
       "      <td>-0.031753</td>\n",
       "      <td>0.047341</td>\n",
       "      <td>-0.054856</td>\n",
       "      <td>-0.142554</td>\n",
       "      <td>-0.149927</td>\n",
       "      <td>-0.037921</td>\n",
       "      <td>-0.026175</td>\n",
       "      <td>-0.116791</td>\n",
       "      <td>-0.116792</td>\n",
       "      <td>-0.145941</td>\n",
       "    </tr>\n",
       "  </tbody>\n",
       "</table>\n",
       "<p>3 rows × 917 columns</p>\n",
       "</div>"
      ],
      "text/plain": [
       "                        complexity from pubmed        MW       AMW        Sv  \\\n",
       "complexity from pubmed                1.000000  0.741338 -0.082108  0.771273   \n",
       "MW                                    0.741338  1.000000  0.312306  0.860859   \n",
       "AMW                                  -0.082108  0.312306  1.000000 -0.179117   \n",
       "\n",
       "                              Se        Sp        Si       nAT       nSK  \\\n",
       "complexity from pubmed  0.672499  0.719411  0.641314  0.654253  0.859988   \n",
       "MW                      0.784663  0.858467  0.761193  0.772365  0.876775   \n",
       "AMW                    -0.252381 -0.141391 -0.262496 -0.255410 -0.140743   \n",
       "\n",
       "                             nBT  ...  TPSA(NO)  TPSA(Tot)    MLOGP2  \\\n",
       "complexity from pubmed  0.691624  ...  0.308990   0.101394  0.441286   \n",
       "MW                      0.787259  ...  0.196325   0.097500  0.659561   \n",
       "AMW                    -0.251420  ... -0.031753   0.047341 -0.054856   \n",
       "\n",
       "                          ALOGP2     SAtot     SAacc     SAdon        Vx  \\\n",
       "complexity from pubmed  0.428648  0.662253  0.206363 -0.091190  0.726825   \n",
       "MW                      0.658248  0.837070  0.126943 -0.073957  0.882193   \n",
       "AMW                    -0.142554 -0.149927 -0.037921 -0.026175 -0.116791   \n",
       "\n",
       "                          VvdwMG   VvdwZAZ  \n",
       "complexity from pubmed  0.726825  0.748716  \n",
       "MW                      0.882193  0.870118  \n",
       "AMW                    -0.116792 -0.145941  \n",
       "\n",
       "[3 rows x 917 columns]"
      ]
     },
     "execution_count": 24,
     "metadata": {},
     "output_type": "execute_result"
    }
   ],
   "source": [
    "correlations.loc[real_feature_names, real_feature_names].head(3)"
   ]
  },
  {
   "cell_type": "markdown",
   "id": "black-bunny",
   "metadata": {},
   "source": [
    "Integer variables"
   ]
  },
  {
   "cell_type": "code",
   "execution_count": 25,
   "id": "monetary-greeting",
   "metadata": {},
   "outputs": [],
   "source": [
    "Xint_y = pd.concat([X_int, y.iloc[:,1:]], axis = 1)"
   ]
  },
  {
   "cell_type": "code",
   "execution_count": 26,
   "id": "vanilla-vanilla",
   "metadata": {},
   "outputs": [],
   "source": [
    "int_corr = Xint_y.corr()"
   ]
  },
  {
   "cell_type": "code",
   "execution_count": 27,
   "id": "rough-eight",
   "metadata": {},
   "outputs": [
    {
     "data": {
      "text/html": [
       "<div>\n",
       "<style scoped>\n",
       "    .dataframe tbody tr th:only-of-type {\n",
       "        vertical-align: middle;\n",
       "    }\n",
       "\n",
       "    .dataframe tbody tr th {\n",
       "        vertical-align: top;\n",
       "    }\n",
       "\n",
       "    .dataframe thead th {\n",
       "        text-align: right;\n",
       "    }\n",
       "</style>\n",
       "<table border=\"1\" class=\"dataframe\">\n",
       "  <thead>\n",
       "    <tr style=\"text-align: right;\">\n",
       "      <th></th>\n",
       "      <th>Hypnotic-80</th>\n",
       "      <th>Neoplastic-80</th>\n",
       "      <th>Infective-80</th>\n",
       "      <th>CMC-80</th>\n",
       "      <th>INTENSITY/STRENGTH</th>\n",
       "    </tr>\n",
       "  </thead>\n",
       "  <tbody>\n",
       "    <tr>\n",
       "      <th>Hypnotic-80</th>\n",
       "      <td>1.000000</td>\n",
       "      <td>0.536797</td>\n",
       "      <td>0.693763</td>\n",
       "      <td>0.817992</td>\n",
       "      <td>-0.062909</td>\n",
       "    </tr>\n",
       "    <tr>\n",
       "      <th>Neoplastic-80</th>\n",
       "      <td>0.536797</td>\n",
       "      <td>1.000000</td>\n",
       "      <td>0.559012</td>\n",
       "      <td>0.672132</td>\n",
       "      <td>-0.047641</td>\n",
       "    </tr>\n",
       "    <tr>\n",
       "      <th>Infective-80</th>\n",
       "      <td>0.693763</td>\n",
       "      <td>0.559012</td>\n",
       "      <td>1.000000</td>\n",
       "      <td>0.774653</td>\n",
       "      <td>-0.055796</td>\n",
       "    </tr>\n",
       "    <tr>\n",
       "      <th>CMC-80</th>\n",
       "      <td>0.817992</td>\n",
       "      <td>0.672132</td>\n",
       "      <td>0.774653</td>\n",
       "      <td>1.000000</td>\n",
       "      <td>-0.086768</td>\n",
       "    </tr>\n",
       "    <tr>\n",
       "      <th>INTENSITY/STRENGTH</th>\n",
       "      <td>-0.062909</td>\n",
       "      <td>-0.047641</td>\n",
       "      <td>-0.055796</td>\n",
       "      <td>-0.086768</td>\n",
       "      <td>1.000000</td>\n",
       "    </tr>\n",
       "  </tbody>\n",
       "</table>\n",
       "</div>"
      ],
      "text/plain": [
       "                    Hypnotic-80  Neoplastic-80  Infective-80    CMC-80  \\\n",
       "Hypnotic-80            1.000000       0.536797      0.693763  0.817992   \n",
       "Neoplastic-80          0.536797       1.000000      0.559012  0.672132   \n",
       "Infective-80           0.693763       0.559012      1.000000  0.774653   \n",
       "CMC-80                 0.817992       0.672132      0.774653  1.000000   \n",
       "INTENSITY/STRENGTH    -0.062909      -0.047641     -0.055796 -0.086768   \n",
       "\n",
       "                    INTENSITY/STRENGTH  \n",
       "Hypnotic-80                  -0.062909  \n",
       "Neoplastic-80                -0.047641  \n",
       "Infective-80                 -0.055796  \n",
       "CMC-80                       -0.086768  \n",
       "INTENSITY/STRENGTH            1.000000  "
      ]
     },
     "execution_count": 27,
     "metadata": {},
     "output_type": "execute_result"
    }
   ],
   "source": [
    "int_corr"
   ]
  },
  {
   "cell_type": "markdown",
   "id": "russian-header",
   "metadata": {},
   "source": [
    "The table shows that continuous features are highly correlated with each other (up to 99%) and maybe running a PCA can reduce the number of features significantly.\n",
    "\n",
    "Here I will use sklearn fuctionality to run the PCA."
   ]
  },
  {
   "cell_type": "markdown",
   "id": "allied-terminology",
   "metadata": {},
   "source": [
    "Before applying PCA, it is important to rescale the data set. Here I will scale by centering and dividing by the standard deviation."
   ]
  },
  {
   "cell_type": "code",
   "execution_count": 28,
   "id": "spanish-traffic",
   "metadata": {},
   "outputs": [],
   "source": [
    "from sklearn.preprocessing import StandardScaler\n",
    "from sklearn.decomposition import PCA"
   ]
  },
  {
   "cell_type": "markdown",
   "id": "stainless-moscow",
   "metadata": {},
   "source": [
    "Scaling the data"
   ]
  },
  {
   "cell_type": "code",
   "execution_count": 29,
   "id": "decreased-german",
   "metadata": {},
   "outputs": [],
   "source": [
    "X_scaler = StandardScaler()"
   ]
  },
  {
   "cell_type": "code",
   "execution_count": 30,
   "id": "african-birthday",
   "metadata": {},
   "outputs": [],
   "source": [
    "X_scaled  = X_scaler.fit_transform(X_real)"
   ]
  },
  {
   "cell_type": "markdown",
   "id": "julian-rachel",
   "metadata": {},
   "source": [
    "Performing PCA"
   ]
  },
  {
   "cell_type": "code",
   "execution_count": 31,
   "id": "adjustable-certification",
   "metadata": {},
   "outputs": [],
   "source": [
    "components = PCA(n_components = X_real.shape[1]).fit(X_scaled)"
   ]
  },
  {
   "cell_type": "markdown",
   "id": "explicit-pound",
   "metadata": {},
   "source": [
    "To select our features, we must check how much components are necessary to explain most of feature variance. "
   ]
  },
  {
   "cell_type": "code",
   "execution_count": 35,
   "id": "increased-eligibility",
   "metadata": {},
   "outputs": [
    {
     "data": {
      "text/plain": [
       "0.9854472802116625"
      ]
     },
     "execution_count": 35,
     "metadata": {},
     "output_type": "execute_result"
    }
   ],
   "source": [
    "n_components = 60\n",
    "components.explained_variance_ratio_[0:n_components].sum()"
   ]
  },
  {
   "cell_type": "markdown",
   "id": "plastic-stomach",
   "metadata": {},
   "source": [
    "We can see that with 60 components, we can retain 0.95 of variance. So we will simply retain 26 of them and transform the original data set."
   ]
  },
  {
   "cell_type": "code",
   "execution_count": 36,
   "id": "handled-entrance",
   "metadata": {},
   "outputs": [],
   "source": [
    "Z = PCA(n_components = n_components).fit_transform(X_scaled)"
   ]
  },
  {
   "cell_type": "markdown",
   "id": "chinese-islam",
   "metadata": {},
   "source": [
    "**Saving n_components principal components**\n",
    "\n",
    "After transforming the data, it is better to rescale them so, again with standard scaler."
   ]
  },
  {
   "cell_type": "code",
   "execution_count": 37,
   "id": "surprised-gather",
   "metadata": {},
   "outputs": [],
   "source": [
    "Z_scaler = StandardScaler()"
   ]
  },
  {
   "cell_type": "code",
   "execution_count": 38,
   "id": "anticipated-buddy",
   "metadata": {},
   "outputs": [],
   "source": [
    "Z_scaled = Z_scaler.fit_transform(Z)"
   ]
  },
  {
   "cell_type": "markdown",
   "id": "established-jefferson",
   "metadata": {},
   "source": [
    "Transforming ``Z_scaled`` in a dataframe"
   ]
  },
  {
   "cell_type": "code",
   "execution_count": 39,
   "id": "prostate-preliminary",
   "metadata": {},
   "outputs": [],
   "source": [
    "z_names = ['z{}'.format(i) for i in range(1, n_components + 1)]"
   ]
  },
  {
   "cell_type": "code",
   "execution_count": 40,
   "id": "recognized-government",
   "metadata": {},
   "outputs": [],
   "source": [
    "Z_scaled = pd.DataFrame(Z_scaled, columns = z_names)"
   ]
  },
  {
   "cell_type": "markdown",
   "id": "behind-charleston",
   "metadata": {},
   "source": [
    "Joining ``Z_scaled`` with ``X_int``."
   ]
  },
  {
   "cell_type": "code",
   "execution_count": 41,
   "id": "adequate-rebel",
   "metadata": {},
   "outputs": [],
   "source": [
    "X_Z = pd.concat([X_int, Z_scaled], axis = 1)"
   ]
  },
  {
   "cell_type": "code",
   "execution_count": 42,
   "id": "interpreted-timber",
   "metadata": {},
   "outputs": [
    {
     "data": {
      "text/plain": [
       "(25762, 64)"
      ]
     },
     "execution_count": 42,
     "metadata": {},
     "output_type": "execute_result"
    }
   ],
   "source": [
    "X_Z.shape"
   ]
  },
  {
   "cell_type": "markdown",
   "id": "stopped-starter",
   "metadata": {},
   "source": [
    "Saving features and targets together as the training set."
   ]
  },
  {
   "cell_type": "code",
   "execution_count": 43,
   "id": "improved-superintendent",
   "metadata": {},
   "outputs": [],
   "source": [
    "if not os.path.isdir('task1/krr_train'):\n",
    "    os.mkdir('task1/krr_train')"
   ]
  },
  {
   "cell_type": "code",
   "execution_count": 44,
   "id": "annoying-daughter",
   "metadata": {},
   "outputs": [],
   "source": [
    "pd.concat([y.iloc[:,1:], X_Z], axis = 1).to_csv('task1/krr_train/train.csv', index = False, header = False)"
   ]
  },
  {
   "cell_type": "markdown",
   "id": "gentle-sequence",
   "metadata": {},
   "source": [
    "Saving U array as a dataframe."
   ]
  },
  {
   "cell_type": "code",
   "execution_count": 45,
   "id": "prepared-shark",
   "metadata": {},
   "outputs": [],
   "source": [
    "vectors = pd.DataFrame(components.components_).iloc[0:n_components, :]"
   ]
  },
  {
   "cell_type": "markdown",
   "id": "bibliographic-rendering",
   "metadata": {},
   "source": [
    "Vaving transformed covariance matrix to ``u_array.csv`` file."
   ]
  },
  {
   "cell_type": "code",
   "execution_count": 48,
   "id": "hearing-relay",
   "metadata": {},
   "outputs": [
    {
     "ename": "AttributeError",
     "evalue": "'NoneType' object has no attribute 'to_csv'",
     "output_type": "error",
     "traceback": [
      "\u001b[0;31m---------------------------------------------------------------------------\u001b[0m",
      "\u001b[0;31mAttributeError\u001b[0m                            Traceback (most recent call last)",
      "\u001b[0;32m<ipython-input-48-ca5ff5b1dc6a>\u001b[0m in \u001b[0;36m<module>\u001b[0;34m\u001b[0m\n\u001b[0;32m----> 1\u001b[0;31m \u001b[0mvectors\u001b[0m\u001b[0;34m.\u001b[0m\u001b[0mto_csv\u001b[0m\u001b[0;34m(\u001b[0m\u001b[0;34m'task1/u_array.csv'\u001b[0m\u001b[0;34m,\u001b[0m \u001b[0mindex\u001b[0m \u001b[0;34m=\u001b[0m \u001b[0;32mFalse\u001b[0m\u001b[0;34m,\u001b[0m \u001b[0mheader\u001b[0m \u001b[0;34m=\u001b[0m \u001b[0;32mFalse\u001b[0m\u001b[0;34m)\u001b[0m\u001b[0;34m\u001b[0m\u001b[0;34m\u001b[0m\u001b[0m\n\u001b[0m",
      "\u001b[0;31mAttributeError\u001b[0m: 'NoneType' object has no attribute 'to_csv'"
     ]
    }
   ],
   "source": [
    "vectors.to_csv('task1/u_array.csv', index = False, header = False)"
   ]
  },
  {
   "cell_type": "markdown",
   "id": "documentary-gauge",
   "metadata": {},
   "source": [
    "Cleaning memory."
   ]
  },
  {
   "cell_type": "code",
   "execution_count": 47,
   "id": "unexpected-oxygen",
   "metadata": {},
   "outputs": [],
   "source": [
    "components = Z = Z_scaled = vectors =  X = X_int = y = X_Z = X_scaled = X_real =  None"
   ]
  },
  {
   "cell_type": "markdown",
   "id": "necessary-elements",
   "metadata": {},
   "source": [
    "###  Feature transformation - leaderboard and test sets"
   ]
  },
  {
   "cell_type": "markdown",
   "id": "digital-coral",
   "metadata": {},
   "source": [
    "Here I will only transform the generated features using PCA. All exploration is done in the training set."
   ]
  },
  {
   "cell_type": "markdown",
   "id": "sacred-revolution",
   "metadata": {},
   "source": [
    "Pipelining"
   ]
  },
  {
   "cell_type": "code",
   "execution_count": 49,
   "id": "abstract-matter",
   "metadata": {},
   "outputs": [],
   "source": [
    "def pipeline(df, int_cols, real_cols, pca_u):\n",
    "    ''' Function to preprocess features of leaderboard and test sets\n",
    "    \n",
    "    '''\n",
    "    \n",
    "    X_real = df[real_cols]\n",
    "    X_scaled = X_scaler.transform(X_real)\n",
    "    \n",
    "    Z = np.matmul(X_scaled, pca_u.transpose().values)\n",
    "    Z_scaled = Z_scaler.transform(Z)\n",
    "    \n",
    "    X_int = df[int_cols].values\n",
    "    X_Z = np.concatenate((X_int, Z_scaled), axis = 1)\n",
    "    \n",
    "    return X_Z\n",
    "    "
   ]
  },
  {
   "cell_type": "markdown",
   "id": "minus-screw",
   "metadata": {},
   "source": [
    "Loading leaderboard features and pca components"
   ]
  },
  {
   "cell_type": "code",
   "execution_count": 2,
   "id": "egyptian-virtue",
   "metadata": {},
   "outputs": [],
   "source": [
    "X_ldb = pd.read_csv('task1/X_ldb.csv')\n",
    "X_test = pd.read_csv('task1/X_test.csv')\n",
    "pca_u = pd.read_csv('task1/u_array.csv', header = None)\n",
    "y_test = pd.read_csv('task1/y_test.csv')\n",
    "y_ldb = pd.read_csv('task1/y_ldb.csv')"
   ]
  },
  {
   "cell_type": "code",
   "execution_count": 3,
   "id": "valuable-rebate",
   "metadata": {},
   "outputs": [
    {
     "data": {
      "text/html": [
       "<div>\n",
       "<style scoped>\n",
       "    .dataframe tbody tr th:only-of-type {\n",
       "        vertical-align: middle;\n",
       "    }\n",
       "\n",
       "    .dataframe tbody tr th {\n",
       "        vertical-align: top;\n",
       "    }\n",
       "\n",
       "    .dataframe thead th {\n",
       "        text-align: right;\n",
       "    }\n",
       "</style>\n",
       "<table border=\"1\" class=\"dataframe\">\n",
       "  <thead>\n",
       "    <tr style=\"text-align: right;\">\n",
       "      <th></th>\n",
       "      <th>INTENSITY/STRENGTH</th>\n",
       "      <th>subject #</th>\n",
       "    </tr>\n",
       "  </thead>\n",
       "  <tbody>\n",
       "    <tr>\n",
       "      <th>0</th>\n",
       "      <td>0</td>\n",
       "      <td>1</td>\n",
       "    </tr>\n",
       "    <tr>\n",
       "      <th>1</th>\n",
       "      <td>85</td>\n",
       "      <td>2</td>\n",
       "    </tr>\n",
       "    <tr>\n",
       "      <th>2</th>\n",
       "      <td>56</td>\n",
       "      <td>3</td>\n",
       "    </tr>\n",
       "    <tr>\n",
       "      <th>3</th>\n",
       "      <td>74</td>\n",
       "      <td>4</td>\n",
       "    </tr>\n",
       "    <tr>\n",
       "      <th>4</th>\n",
       "      <td>0</td>\n",
       "      <td>5</td>\n",
       "    </tr>\n",
       "    <tr>\n",
       "      <th>...</th>\n",
       "      <td>...</td>\n",
       "      <td>...</td>\n",
       "    </tr>\n",
       "    <tr>\n",
       "      <th>3327</th>\n",
       "      <td>14</td>\n",
       "      <td>45</td>\n",
       "    </tr>\n",
       "    <tr>\n",
       "      <th>3328</th>\n",
       "      <td>0</td>\n",
       "      <td>46</td>\n",
       "    </tr>\n",
       "    <tr>\n",
       "      <th>3329</th>\n",
       "      <td>40</td>\n",
       "      <td>47</td>\n",
       "    </tr>\n",
       "    <tr>\n",
       "      <th>3330</th>\n",
       "      <td>94</td>\n",
       "      <td>48</td>\n",
       "    </tr>\n",
       "    <tr>\n",
       "      <th>3331</th>\n",
       "      <td>56</td>\n",
       "      <td>49</td>\n",
       "    </tr>\n",
       "  </tbody>\n",
       "</table>\n",
       "<p>3332 rows × 2 columns</p>\n",
       "</div>"
      ],
      "text/plain": [
       "      INTENSITY/STRENGTH  subject #\n",
       "0                      0          1\n",
       "1                     85          2\n",
       "2                     56          3\n",
       "3                     74          4\n",
       "4                      0          5\n",
       "...                  ...        ...\n",
       "3327                  14         45\n",
       "3328                   0         46\n",
       "3329                  40         47\n",
       "3330                  94         48\n",
       "3331                  56         49\n",
       "\n",
       "[3332 rows x 2 columns]"
      ]
     },
     "execution_count": 3,
     "metadata": {},
     "output_type": "execute_result"
    }
   ],
   "source": [
    "y_test"
   ]
  },
  {
   "cell_type": "markdown",
   "id": "arabic-invasion",
   "metadata": {},
   "source": [
    "Creating features"
   ]
  },
  {
   "cell_type": "code",
   "execution_count": 51,
   "id": "vulnerable-dancing",
   "metadata": {},
   "outputs": [],
   "source": [
    "X_Z_ldb = pipeline(X_ldb, good_int, real_feature_names, pca_u)"
   ]
  },
  {
   "cell_type": "code",
   "execution_count": 52,
   "id": "decreased-directive",
   "metadata": {},
   "outputs": [],
   "source": [
    "X_Z_test = pipeline(X_test, good_int, real_feature_names, pca_u)"
   ]
  },
  {
   "cell_type": "markdown",
   "id": "fitting-branch",
   "metadata": {},
   "source": [
    "Concatenating labels with features for validation and test and saving as csv"
   ]
  },
  {
   "cell_type": "code",
   "execution_count": 53,
   "id": "marked-dating",
   "metadata": {},
   "outputs": [],
   "source": [
    "pd.concat([y_ldb, pd.DataFrame(X_Z_ldb)], axis = 1).to_csv('task1/krr_train/validation.csv', header = None, index = None)"
   ]
  },
  {
   "cell_type": "code",
   "execution_count": 54,
   "id": "native-talent",
   "metadata": {},
   "outputs": [],
   "source": [
    "pd.concat([y_test, pd.DataFrame(X_Z_test)], axis = 1).to_csv('task1/krr_train/test.csv', header = None, index = None)"
   ]
  }
 ],
 "metadata": {
  "kernelspec": {
   "display_name": "conda_amazonei_mxnet_p36",
   "language": "python",
   "name": "conda_amazonei_mxnet_p36"
  },
  "language_info": {
   "codemirror_mode": {
    "name": "ipython",
    "version": 3
   },
   "file_extension": ".py",
   "mimetype": "text/x-python",
   "name": "python",
   "nbconvert_exporter": "python",
   "pygments_lexer": "ipython3",
   "version": "3.6.13"
  },
  "toc": {
   "base_numbering": 1,
   "nav_menu": {},
   "number_sections": true,
   "sideBar": true,
   "skip_h1_title": false,
   "title_cell": "Table of Contents",
   "title_sidebar": "Contents",
   "toc_cell": false,
   "toc_position": {},
   "toc_section_display": true,
   "toc_window_display": false
  }
 },
 "nbformat": 4,
 "nbformat_minor": 5
}
